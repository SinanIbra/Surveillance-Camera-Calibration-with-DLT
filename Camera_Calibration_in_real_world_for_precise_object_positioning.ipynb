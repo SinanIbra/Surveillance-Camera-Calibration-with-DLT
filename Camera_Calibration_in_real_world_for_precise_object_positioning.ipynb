{
  "nbformat": 4,
  "nbformat_minor": 0,
  "metadata": {
    "colab": {
      "name": "Camera Calibration in real world for precise object positioning.ipynb",
      "provenance": []
    },
    "kernelspec": {
      "name": "python3",
      "display_name": "Python 3"
    },
    "language_info": {
      "name": "python"
    }
  },
  "cells": [
    {
      "cell_type": "code",
      "execution_count": 1,
      "metadata": {
        "id": "DM9D8Owvf0AO",
        "colab": {
          "base_uri": "https://localhost:8080/"
        },
        "outputId": "cf78b8e9-47f1-4859-e077-afec3a66a899"
      },
      "outputs": [
        {
          "output_type": "stream",
          "name": "stdout",
          "text": [
            "Looking in indexes: https://pypi.org/simple, https://us-python.pkg.dev/colab-wheels/public/simple/\n",
            "Requirement already satisfied: matplotlib in /usr/local/lib/python3.7/dist-packages (3.5.2)\n",
            "Requirement already satisfied: cycler>=0.10 in /usr/local/lib/python3.7/dist-packages (from matplotlib) (0.11.0)\n",
            "Requirement already satisfied: kiwisolver>=1.0.1 in /usr/local/lib/python3.7/dist-packages (from matplotlib) (1.4.4)\n",
            "Requirement already satisfied: packaging>=20.0 in /usr/local/lib/python3.7/dist-packages (from matplotlib) (21.3)\n",
            "Requirement already satisfied: pillow>=6.2.0 in /usr/local/lib/python3.7/dist-packages (from matplotlib) (7.1.2)\n",
            "Requirement already satisfied: numpy>=1.17 in /usr/local/lib/python3.7/dist-packages (from matplotlib) (1.21.6)\n",
            "Requirement already satisfied: fonttools>=4.22.0 in /usr/local/lib/python3.7/dist-packages (from matplotlib) (4.34.4)\n",
            "Requirement already satisfied: pyparsing>=2.2.1 in /usr/local/lib/python3.7/dist-packages (from matplotlib) (3.0.9)\n",
            "Requirement already satisfied: python-dateutil>=2.7 in /usr/local/lib/python3.7/dist-packages (from matplotlib) (2.8.2)\n",
            "Requirement already satisfied: typing-extensions in /usr/local/lib/python3.7/dist-packages (from kiwisolver>=1.0.1->matplotlib) (4.1.1)\n",
            "Requirement already satisfied: six>=1.5 in /usr/local/lib/python3.7/dist-packages (from python-dateutil>=2.7->matplotlib) (1.15.0)\n",
            "Looking in indexes: https://pypi.org/simple, https://us-python.pkg.dev/colab-wheels/public/simple/\n",
            "Requirement already satisfied: pytransform3d in /usr/local/lib/python3.7/dist-packages (1.14.0)\n",
            "Requirement already satisfied: matplotlib in /usr/local/lib/python3.7/dist-packages (from pytransform3d) (3.5.2)\n",
            "Requirement already satisfied: scipy in /usr/local/lib/python3.7/dist-packages (from pytransform3d) (1.7.3)\n",
            "Requirement already satisfied: lxml in /usr/local/lib/python3.7/dist-packages (from pytransform3d) (4.9.1)\n",
            "Requirement already satisfied: numpy in /usr/local/lib/python3.7/dist-packages (from pytransform3d) (1.21.6)\n",
            "Requirement already satisfied: beautifulsoup4 in /usr/local/lib/python3.7/dist-packages (from pytransform3d) (4.6.3)\n",
            "Requirement already satisfied: packaging>=20.0 in /usr/local/lib/python3.7/dist-packages (from matplotlib->pytransform3d) (21.3)\n",
            "Requirement already satisfied: pillow>=6.2.0 in /usr/local/lib/python3.7/dist-packages (from matplotlib->pytransform3d) (7.1.2)\n",
            "Requirement already satisfied: cycler>=0.10 in /usr/local/lib/python3.7/dist-packages (from matplotlib->pytransform3d) (0.11.0)\n",
            "Requirement already satisfied: kiwisolver>=1.0.1 in /usr/local/lib/python3.7/dist-packages (from matplotlib->pytransform3d) (1.4.4)\n",
            "Requirement already satisfied: fonttools>=4.22.0 in /usr/local/lib/python3.7/dist-packages (from matplotlib->pytransform3d) (4.34.4)\n",
            "Requirement already satisfied: pyparsing>=2.2.1 in /usr/local/lib/python3.7/dist-packages (from matplotlib->pytransform3d) (3.0.9)\n",
            "Requirement already satisfied: python-dateutil>=2.7 in /usr/local/lib/python3.7/dist-packages (from matplotlib->pytransform3d) (2.8.2)\n",
            "Requirement already satisfied: typing-extensions in /usr/local/lib/python3.7/dist-packages (from kiwisolver>=1.0.1->matplotlib->pytransform3d) (4.1.1)\n",
            "Requirement already satisfied: six>=1.5 in /usr/local/lib/python3.7/dist-packages (from python-dateutil>=2.7->matplotlib->pytransform3d) (1.15.0)\n",
            "Looking in indexes: https://pypi.org/simple, https://us-python.pkg.dev/colab-wheels/public/simple/\n",
            "Requirement already satisfied: ipympl in /usr/local/lib/python3.7/dist-packages (0.9.1)\n",
            "Requirement already satisfied: matplotlib<4,>=3.4.0 in /usr/local/lib/python3.7/dist-packages (from ipympl) (3.5.2)\n",
            "Requirement already satisfied: pillow in /usr/local/lib/python3.7/dist-packages (from ipympl) (7.1.2)\n",
            "Requirement already satisfied: ipython-genutils in /usr/local/lib/python3.7/dist-packages (from ipympl) (0.2.0)\n",
            "Requirement already satisfied: ipython<9 in /usr/local/lib/python3.7/dist-packages (from ipympl) (5.5.0)\n",
            "Requirement already satisfied: ipywidgets<8,>=7.6.0 in /usr/local/lib/python3.7/dist-packages (from ipympl) (7.7.1)\n",
            "Requirement already satisfied: numpy in /usr/local/lib/python3.7/dist-packages (from ipympl) (1.21.6)\n",
            "Requirement already satisfied: traitlets<6 in /usr/local/lib/python3.7/dist-packages (from ipympl) (5.1.1)\n",
            "Requirement already satisfied: pickleshare in /usr/local/lib/python3.7/dist-packages (from ipython<9->ipympl) (0.7.5)\n",
            "Requirement already satisfied: simplegeneric>0.8 in /usr/local/lib/python3.7/dist-packages (from ipython<9->ipympl) (0.8.1)\n",
            "Requirement already satisfied: pexpect in /usr/local/lib/python3.7/dist-packages (from ipython<9->ipympl) (4.8.0)\n",
            "Requirement already satisfied: pygments in /usr/local/lib/python3.7/dist-packages (from ipython<9->ipympl) (2.6.1)\n",
            "Requirement already satisfied: prompt-toolkit<2.0.0,>=1.0.4 in /usr/local/lib/python3.7/dist-packages (from ipython<9->ipympl) (1.0.18)\n",
            "Requirement already satisfied: setuptools>=18.5 in /usr/local/lib/python3.7/dist-packages (from ipython<9->ipympl) (57.4.0)\n",
            "Requirement already satisfied: decorator in /usr/local/lib/python3.7/dist-packages (from ipython<9->ipympl) (4.4.2)\n",
            "Requirement already satisfied: ipykernel>=4.5.1 in /usr/local/lib/python3.7/dist-packages (from ipywidgets<8,>=7.6.0->ipympl) (4.10.1)\n",
            "Requirement already satisfied: jupyterlab-widgets>=1.0.0 in /usr/local/lib/python3.7/dist-packages (from ipywidgets<8,>=7.6.0->ipympl) (1.1.1)\n",
            "Requirement already satisfied: widgetsnbextension~=3.6.0 in /usr/local/lib/python3.7/dist-packages (from ipywidgets<8,>=7.6.0->ipympl) (3.6.1)\n",
            "Requirement already satisfied: tornado>=4.0 in /usr/local/lib/python3.7/dist-packages (from ipykernel>=4.5.1->ipywidgets<8,>=7.6.0->ipympl) (5.1.1)\n",
            "Requirement already satisfied: jupyter-client in /usr/local/lib/python3.7/dist-packages (from ipykernel>=4.5.1->ipywidgets<8,>=7.6.0->ipympl) (5.3.5)\n",
            "Requirement already satisfied: cycler>=0.10 in /usr/local/lib/python3.7/dist-packages (from matplotlib<4,>=3.4.0->ipympl) (0.11.0)\n",
            "Requirement already satisfied: python-dateutil>=2.7 in /usr/local/lib/python3.7/dist-packages (from matplotlib<4,>=3.4.0->ipympl) (2.8.2)\n",
            "Requirement already satisfied: pyparsing>=2.2.1 in /usr/local/lib/python3.7/dist-packages (from matplotlib<4,>=3.4.0->ipympl) (3.0.9)\n",
            "Requirement already satisfied: fonttools>=4.22.0 in /usr/local/lib/python3.7/dist-packages (from matplotlib<4,>=3.4.0->ipympl) (4.34.4)\n",
            "Requirement already satisfied: kiwisolver>=1.0.1 in /usr/local/lib/python3.7/dist-packages (from matplotlib<4,>=3.4.0->ipympl) (1.4.4)\n",
            "Requirement already satisfied: packaging>=20.0 in /usr/local/lib/python3.7/dist-packages (from matplotlib<4,>=3.4.0->ipympl) (21.3)\n",
            "Requirement already satisfied: typing-extensions in /usr/local/lib/python3.7/dist-packages (from kiwisolver>=1.0.1->matplotlib<4,>=3.4.0->ipympl) (4.1.1)\n",
            "Requirement already satisfied: wcwidth in /usr/local/lib/python3.7/dist-packages (from prompt-toolkit<2.0.0,>=1.0.4->ipython<9->ipympl) (0.2.5)\n",
            "Requirement already satisfied: six>=1.9.0 in /usr/local/lib/python3.7/dist-packages (from prompt-toolkit<2.0.0,>=1.0.4->ipython<9->ipympl) (1.15.0)\n",
            "Requirement already satisfied: notebook>=4.4.1 in /usr/local/lib/python3.7/dist-packages (from widgetsnbextension~=3.6.0->ipywidgets<8,>=7.6.0->ipympl) (5.3.1)\n",
            "Requirement already satisfied: jupyter-core>=4.4.0 in /usr/local/lib/python3.7/dist-packages (from notebook>=4.4.1->widgetsnbextension~=3.6.0->ipywidgets<8,>=7.6.0->ipympl) (4.11.1)\n",
            "Requirement already satisfied: jinja2 in /usr/local/lib/python3.7/dist-packages (from notebook>=4.4.1->widgetsnbextension~=3.6.0->ipywidgets<8,>=7.6.0->ipympl) (2.11.3)\n",
            "Requirement already satisfied: nbformat in /usr/local/lib/python3.7/dist-packages (from notebook>=4.4.1->widgetsnbextension~=3.6.0->ipywidgets<8,>=7.6.0->ipympl) (5.4.0)\n",
            "Requirement already satisfied: Send2Trash in /usr/local/lib/python3.7/dist-packages (from notebook>=4.4.1->widgetsnbextension~=3.6.0->ipywidgets<8,>=7.6.0->ipympl) (1.8.0)\n",
            "Requirement already satisfied: terminado>=0.8.1 in /usr/local/lib/python3.7/dist-packages (from notebook>=4.4.1->widgetsnbextension~=3.6.0->ipywidgets<8,>=7.6.0->ipympl) (0.13.3)\n",
            "Requirement already satisfied: nbconvert in /usr/local/lib/python3.7/dist-packages (from notebook>=4.4.1->widgetsnbextension~=3.6.0->ipywidgets<8,>=7.6.0->ipympl) (5.6.1)\n",
            "Requirement already satisfied: pyzmq>=13 in /usr/local/lib/python3.7/dist-packages (from jupyter-client->ipykernel>=4.5.1->ipywidgets<8,>=7.6.0->ipympl) (23.2.0)\n",
            "Requirement already satisfied: ptyprocess in /usr/local/lib/python3.7/dist-packages (from terminado>=0.8.1->notebook>=4.4.1->widgetsnbextension~=3.6.0->ipywidgets<8,>=7.6.0->ipympl) (0.7.0)\n",
            "Requirement already satisfied: MarkupSafe>=0.23 in /usr/local/lib/python3.7/dist-packages (from jinja2->notebook>=4.4.1->widgetsnbextension~=3.6.0->ipywidgets<8,>=7.6.0->ipympl) (2.0.1)\n",
            "Requirement already satisfied: pandocfilters>=1.4.1 in /usr/local/lib/python3.7/dist-packages (from nbconvert->notebook>=4.4.1->widgetsnbextension~=3.6.0->ipywidgets<8,>=7.6.0->ipympl) (1.5.0)\n",
            "Requirement already satisfied: bleach in /usr/local/lib/python3.7/dist-packages (from nbconvert->notebook>=4.4.1->widgetsnbextension~=3.6.0->ipywidgets<8,>=7.6.0->ipympl) (5.0.1)\n",
            "Requirement already satisfied: mistune<2,>=0.8.1 in /usr/local/lib/python3.7/dist-packages (from nbconvert->notebook>=4.4.1->widgetsnbextension~=3.6.0->ipywidgets<8,>=7.6.0->ipympl) (0.8.4)\n",
            "Requirement already satisfied: defusedxml in /usr/local/lib/python3.7/dist-packages (from nbconvert->notebook>=4.4.1->widgetsnbextension~=3.6.0->ipywidgets<8,>=7.6.0->ipympl) (0.7.1)\n",
            "Requirement already satisfied: entrypoints>=0.2.2 in /usr/local/lib/python3.7/dist-packages (from nbconvert->notebook>=4.4.1->widgetsnbextension~=3.6.0->ipywidgets<8,>=7.6.0->ipympl) (0.4)\n",
            "Requirement already satisfied: testpath in /usr/local/lib/python3.7/dist-packages (from nbconvert->notebook>=4.4.1->widgetsnbextension~=3.6.0->ipywidgets<8,>=7.6.0->ipympl) (0.6.0)\n",
            "Requirement already satisfied: fastjsonschema in /usr/local/lib/python3.7/dist-packages (from nbformat->notebook>=4.4.1->widgetsnbextension~=3.6.0->ipywidgets<8,>=7.6.0->ipympl) (2.16.1)\n",
            "Requirement already satisfied: jsonschema>=2.6 in /usr/local/lib/python3.7/dist-packages (from nbformat->notebook>=4.4.1->widgetsnbextension~=3.6.0->ipywidgets<8,>=7.6.0->ipympl) (4.3.3)\n",
            "Requirement already satisfied: importlib-metadata in /usr/local/lib/python3.7/dist-packages (from jsonschema>=2.6->nbformat->notebook>=4.4.1->widgetsnbextension~=3.6.0->ipywidgets<8,>=7.6.0->ipympl) (4.12.0)\n",
            "Requirement already satisfied: attrs>=17.4.0 in /usr/local/lib/python3.7/dist-packages (from jsonschema>=2.6->nbformat->notebook>=4.4.1->widgetsnbextension~=3.6.0->ipywidgets<8,>=7.6.0->ipympl) (22.1.0)\n",
            "Requirement already satisfied: importlib-resources>=1.4.0 in /usr/local/lib/python3.7/dist-packages (from jsonschema>=2.6->nbformat->notebook>=4.4.1->widgetsnbextension~=3.6.0->ipywidgets<8,>=7.6.0->ipympl) (5.9.0)\n",
            "Requirement already satisfied: pyrsistent!=0.17.0,!=0.17.1,!=0.17.2,>=0.14.0 in /usr/local/lib/python3.7/dist-packages (from jsonschema>=2.6->nbformat->notebook>=4.4.1->widgetsnbextension~=3.6.0->ipywidgets<8,>=7.6.0->ipympl) (0.18.1)\n",
            "Requirement already satisfied: zipp>=3.1.0 in /usr/local/lib/python3.7/dist-packages (from importlib-resources>=1.4.0->jsonschema>=2.6->nbformat->notebook>=4.4.1->widgetsnbextension~=3.6.0->ipywidgets<8,>=7.6.0->ipympl) (3.8.1)\n",
            "Requirement already satisfied: webencodings in /usr/local/lib/python3.7/dist-packages (from bleach->nbconvert->notebook>=4.4.1->widgetsnbextension~=3.6.0->ipywidgets<8,>=7.6.0->ipympl) (0.5.1)\n",
            "Looking in indexes: https://pypi.org/simple, https://us-python.pkg.dev/colab-wheels/public/simple/\n",
            "Requirement already satisfied: utils in /usr/local/lib/python3.7/dist-packages (1.0.1)\n"
          ]
        }
      ],
      "source": [
        "import numpy as np\n",
        "import cv2\n",
        "import scipy.io\n",
        "import os\n",
        "from numpy.linalg import norm\n",
        "#from matplotlib import pyplot as plt\n",
        "from numpy.linalg import det\n",
        "from numpy.linalg import inv\n",
        "from scipy.linalg import rq\n",
        "from numpy.linalg import svd\n",
        "import matplotlib.pyplot as plt\n",
        "!pip install -U matplotlib\n",
        "!pip install pytransform3d\n",
        "!pip install ipympl\n",
        "!pip install utils\n",
        "%matplotlib widget\n",
        "import matplotlib.pyplot as plt\n",
        "from utils import *"
      ]
    },
    {
      "cell_type": "code",
      "source": [
        ""
      ],
      "metadata": {
        "id": "fjKY2sX7jbYv"
      },
      "execution_count": null,
      "outputs": []
    },
    {
      "cell_type": "markdown",
      "source": [
        "in order to calibrate the camera we need to calculate it's internal parameters \n",
        "\n",
        "\n",
        "---\n",
        "p= K [R.t] P\n"
      ],
      "metadata": {
        "id": "c6hy95btgPC7"
      }
    },
    {
      "cell_type": "markdown",
      "source": [
        "Given corresponding 2d points in the image and 3d coordinates from the satellite image with known extrinsics, estimate the camera intrinsics"
      ],
      "metadata": {
        "id": "7mRHJRgXiVdX"
      }
    },
    {
      "cell_type": "code",
      "source": [
        "data_part1 = scipy.io.loadmat('pt_corres.mat')\n",
        "cam_pts_3D = data_part1['cam_pts_3D']         # Load the 3d points\n",
        "pts_2D = data_part1['pts_2D']                 # Load the corresponding 2d points\n",
        "\n",
        "print(pts_2D.shape)\n",
        "print(cam_pts_3D.shape)\n",
        "\n",
        "#Obtain the transpose of two matrices\n",
        "pts_2DT=np.transpose(pts_2D)\n",
        "cam_pts_3DT=np.transpose(cam_pts_3D)\n",
        "\n",
        "one=np.ones((7,1))\n",
        "\n",
        "#Matrix AT is composed of three columns with the first column being the x values of the image points, \n",
        "#second column being the y values of the image points and the third column being zeros \n",
        "\n",
        "A = np.hstack((pts_2DT,one))\n",
        "AT=np.transpose(A)\n",
        "\n",
        "#Compose matrix BT such that 1st column is X/Z, 2nd column is Y/Z, 3rd column is one\n",
        "x1=np.empty((7,1))\n",
        "x2=np.empty((7,1))\n",
        "for i in range(0,7):\n",
        "  x1[i]=cam_pts_3DT[i][0]/cam_pts_3DT[i][2]\n",
        "  x2[i]=cam_pts_3DT[i][1]/cam_pts_3DT[i][2]\n",
        "\n",
        "B=np.hstack((x1,x2,one))\n",
        "BT=np.transpose(B)\n",
        "Binv = np.linalg.pinv(BT)\n",
        "print(\"K\", np.dot(AT,Binv))"
      ],
      "metadata": {
        "id": "3iu_AyTPgtrP",
        "colab": {
          "base_uri": "https://localhost:8080/"
        },
        "outputId": "e4bd704f-1e53-4f2b-be1f-3ea62baa8a52"
      },
      "execution_count": 2,
      "outputs": [
        {
          "output_type": "stream",
          "name": "stdout",
          "text": [
            "(2, 28)\n",
            "(3, 28)\n",
            "K [[ 3.38625072e+03  1.27159260e+01  8.52916937e+02]\n",
            " [ 1.85319235e+00  3.42886718e+03  6.27551184e+02]\n",
            " [-1.11022302e-15  2.99760217e-15  1.00000000e+00]]\n"
          ]
        }
      ]
    },
    {
      "cell_type": "markdown",
      "source": [
        "#Functions Used"
      ],
      "metadata": {
        "id": "9CM7UQLHoaqn"
      }
    },
    {
      "cell_type": "code",
      "source": [
        "def calibrate(x,X):\n",
        "  '''\n",
        "  This function computes camera projection matrix from 3D scene points\n",
        "  and corresponding 2D image points with the Direct Linear Transformation (DLT).\n",
        "  \n",
        "  Usage:\n",
        "  P = calibrate(x, X)\n",
        "  \n",
        "  Input:\n",
        "  x: 2xn image points\n",
        "  X: 3xn scene points\n",
        "\n",
        "  Output:\n",
        "  P: 3x4 camera projection matrix\n",
        "  \n",
        "  '''\n",
        "  \n",
        "  #The svd function from Numpy returns U, Sigma and V_transpose\n",
        "  \n",
        "  \n",
        "  xt=np.transpose(x)\n",
        "  Xt=np.transpose(X)\n",
        "    \n",
        "  Xt=np.hstack((Xt,np.ones((7,1))))\n",
        "  print(Xt.shape)\n",
        "  zero4=np.array((0,0,0,0))\n",
        "  \n",
        "  M=np.array((56,12))\n",
        "  for i in range(0,7):\n",
        "    A=np.hstack((zero4,-Xt[i],xt[i][1]*Xt[i]))\n",
        "    B=np.hstack((Xt[i],zero4,-xt[i][0]*Xt[i]))\n",
        "    A=np.reshape(A,(1,12))\n",
        "    B=np.reshape(B,(1,12))\n",
        "    if i == 0:\n",
        "      M=np.vstack((A,B))\n",
        "     \n",
        "    else:\n",
        "      M=np.vstack((M,A,B))\n",
        "      \n",
        "  u, s, vtranspose = np.linalg.svd(M)\n",
        "  v=np.transpose(vtranspose)\n",
        "  p= v[:,11]\n",
        "  \n",
        "  \n",
        "  P=p.reshape((3,4))\n",
        "  return P"
      ],
      "metadata": {
        "id": "Hui4WIXgkvLR"
      },
      "execution_count": 3,
      "outputs": []
    },
    {
      "cell_type": "code",
      "source": [
        "def P_to_KRt(P):\n",
        "  '''\n",
        "  This function computes the decomposition of the projection matrix into intrinsic parameters, K, and extrinsic parameters Q (the rotation matrix) and t (the translation vector)\n",
        "  \n",
        "  Usage:\n",
        "  K, Q, t = P_to_KRt(P)\n",
        "  \n",
        "  Input: \n",
        "  P: 3x4 projection matrix\n",
        "  \n",
        "  Outputs:\n",
        "  K: 3x3 camera intrinsics\n",
        "  Q: 3x3 rotation matrix (extrinsics)\n",
        "  t: 3x1 translation vector(extrinsics)\n",
        "  \n",
        "  '''\n",
        "  \n",
        "  M = P[0:3,0:3]\n",
        "  \n",
        "  R, Q = rq(M)\n",
        "    \n",
        "  K = R/float(R[2,2])\n",
        "  \n",
        "  if K[0,0] < 0:\n",
        "    K[:,0] = -1*K[:,0]\n",
        "    Q[0,:] = -1*Q[0,:]\n",
        "    \n",
        "  if K[1,1] < 0:\n",
        "    K[:,1] = -1*K[:,1]\n",
        "    Q[1,:] = -1*Q[1,:]\n",
        "  \n",
        "  if det(Q) < 0:\n",
        "    print ('Warning: Determinant of the supposed rotation matrix is -1')\n",
        "  \n",
        "  P_3_3 = np.dot(K,Q)\n",
        "  \n",
        "  P_proper_scale = (P_3_3[0,0]*P)/float(P[0,0])\n",
        "  \n",
        "  t = np.dot(inv(K), P_proper_scale[:,3])\n",
        "  \n",
        "  return K, Q, t\n"
      ],
      "metadata": {
        "id": "H7HI5If5oT5m"
      },
      "execution_count": 4,
      "outputs": []
    },
    {
      "cell_type": "code",
      "source": [
        "%matplotlib inline\n",
        "import matplotlib.pyplot as plt\n",
        "#plt.style.use('seaborn-white')\n",
        "import numpy as np\n",
        "\n",
        "#Load the data\n",
        "\n",
        "pts_3d = scipy.io.loadmat('rubik_3D_pts.mat')['pts_3d'] # 3D points in the world-coordinate system with choosing the origin center as approupriat\n",
        "pts_2d = scipy.io.loadmat('rubik_2D_pts.mat')['pts_2d'] # The corresponding 2D points on the image testImg.jpg\n",
        "\n",
        "\n",
        "  \n",
        "P = calibrate(pts_2d, pts_3d)     \n",
        "\n",
        "print ('P = ', P) \n",
        "\n",
        "# use P_to_KRt to decompose P into intrinsics (K) and extrinsics (R and t)\n",
        "[K, R, t] = P_to_KRt(P)\n",
        "\n",
        "print ('K = ', K)\n",
        "print ('R = ', R)\n",
        "print ('t = ', t)\n",
        "Xt=np.transpose(pts_3d)\n",
        "Xt=np.hstack((Xt,np.ones((7,1)))) # for 7 points\n",
        "X_=np.transpose(Xt)\n",
        "\n",
        "#averaged over the 7 points given\n",
        "xnew=np.dot(P,X_)\n",
        "xnewt=np.transpose(xnew)\n",
        "x1=np.empty((7,1))\n",
        "x2=np.empty((7,1))\n",
        "for i in range(0,7):\n",
        "  x1[i]=xnewt[i][0]/xnewt[i][2]\n",
        "  x2[i]=xnewt[i][1]/xnewt[i][2]\n",
        "\n",
        "x_proj=np.hstack((x1,x2))\n",
        "xt=np.transpose(pts_2d)\n",
        "sumerr=0\n",
        "for i in range(0,7):\n",
        "  sumerr+=np.square(xt[i][0]-x_proj[i][0])+np.square(xt[i][1]-x_proj[i][1])\n",
        "reproj_err=np.sqrt(sumerr)/7\n",
        "print(\"Reprojection Error\", reproj_err)\n",
        "\n",
        "\n",
        "\n",
        "\n",
        "# Display the given 2D points and the reprojected 2D points on the test image provided\n",
        "fig, ax = plt.subplots(1)\n",
        "img=cv2.imread(\"testImage.png\")\n",
        "xorg=xt[:,0]\n",
        "yorg=xt[:,1]\n",
        "xproj=x_proj[:,0]\n",
        "yproj=x_proj[:,1]\n",
        "for xx,yy in zip(xorg,yorg):\n",
        "    circ = plt.Circle((xx,yy),20,color='r')\n",
        "    ax.add_patch(circ)\n",
        "    \n",
        "for xx,yy in zip(xproj,yproj):\n",
        "    circ = plt.Circle((xx,yy),10,color='g')\n",
        "    ax.add_patch(circ)\n",
        "    \n",
        "ax.imshow(img)    \n"
      ],
      "metadata": {
        "colab": {
          "base_uri": "https://localhost:8080/",
          "height": 246
        },
        "id": "RBTB5trpoigJ",
        "outputId": "15d90b39-cf37-4a9a-b887-0bc295771b75"
      },
      "execution_count": 1,
      "outputs": [
        {
          "output_type": "error",
          "ename": "NameError",
          "evalue": "ignored",
          "traceback": [
            "\u001b[0;31m---------------------------------------------------------------------------\u001b[0m",
            "\u001b[0;31mNameError\u001b[0m                                 Traceback (most recent call last)",
            "\u001b[0;32m<ipython-input-1-9bf9f6c5624c>\u001b[0m in \u001b[0;36m<module>\u001b[0;34m()\u001b[0m\n\u001b[1;32m      6\u001b[0m \u001b[0;31m#Load the data\u001b[0m\u001b[0;34m\u001b[0m\u001b[0;34m\u001b[0m\u001b[0;34m\u001b[0m\u001b[0m\n\u001b[1;32m      7\u001b[0m \u001b[0;34m\u001b[0m\u001b[0m\n\u001b[0;32m----> 8\u001b[0;31m \u001b[0mpts_3d\u001b[0m \u001b[0;34m=\u001b[0m \u001b[0mscipy\u001b[0m\u001b[0;34m.\u001b[0m\u001b[0mio\u001b[0m\u001b[0;34m.\u001b[0m\u001b[0mloadmat\u001b[0m\u001b[0;34m(\u001b[0m\u001b[0;34m'rubik_3D_pts.mat'\u001b[0m\u001b[0;34m)\u001b[0m\u001b[0;34m[\u001b[0m\u001b[0;34m'pts_3d'\u001b[0m\u001b[0;34m]\u001b[0m \u001b[0;31m# 3D points in the world-coordinate system with choosing the origin center as approupriat\u001b[0m\u001b[0;34m\u001b[0m\u001b[0;34m\u001b[0m\u001b[0m\n\u001b[0m\u001b[1;32m      9\u001b[0m \u001b[0mpts_2d\u001b[0m \u001b[0;34m=\u001b[0m \u001b[0mscipy\u001b[0m\u001b[0;34m.\u001b[0m\u001b[0mio\u001b[0m\u001b[0;34m.\u001b[0m\u001b[0mloadmat\u001b[0m\u001b[0;34m(\u001b[0m\u001b[0;34m'rubik_2D_pts.mat'\u001b[0m\u001b[0;34m)\u001b[0m\u001b[0;34m[\u001b[0m\u001b[0;34m'pts_2d'\u001b[0m\u001b[0;34m]\u001b[0m \u001b[0;31m# The corresponding 2D points on the image testImg.jpg\u001b[0m\u001b[0;34m\u001b[0m\u001b[0;34m\u001b[0m\u001b[0m\n\u001b[1;32m     10\u001b[0m \u001b[0;34m\u001b[0m\u001b[0m\n",
            "\u001b[0;31mNameError\u001b[0m: name 'scipy' is not defined"
          ]
        }
      ]
    },
    {
      "cell_type": "code",
      "source": [
        "mat = scipy.io.loadmat('pt_corres.mat')\n",
        "print(mat)"
      ],
      "metadata": {
        "colab": {
          "base_uri": "https://localhost:8080/"
        },
        "id": "BbtFKvKeq8Dq",
        "outputId": "a1f97fb9-7673-4805-cbac-74f73b547895"
      },
      "execution_count": 13,
      "outputs": [
        {
          "output_type": "stream",
          "name": "stdout",
          "text": [
            "{'__header__': b'MATLAB 5.0 MAT-file, Platform: PCWIN64, Created on: Wed Sep 28 14:24:30 2011', '__version__': '1.0', '__globals__': [], 'pts_2D': array([[ 551.75,  742.25,  938.75, 1126.25,  565.25,  745.25,  938.75,\n",
            "        1121.75,  578.75,  752.75,  937.25, 1115.75,  587.75,  757.25,\n",
            "         940.25, 1115.75,  565.25,  743.75,  932.75, 1111.25,  578.75,\n",
            "         748.25,  926.75, 1102.25,  595.25,  754.25,  928.25, 1091.75],\n",
            "       [ 583.  ,  587.5 ,  593.5 ,  599.5 ,  428.5 ,  434.5 ,  437.5 ,\n",
            "         440.5 ,  266.5 ,  272.5 ,  272.5 ,  280.  ,  124.  ,  127.  ,\n",
            "         130.  ,  134.5 ,  682.  ,  682.  ,  686.5 ,  694.  ,  767.5 ,\n",
            "         769.  ,  773.5 ,  775.  ,  842.5 ,  844.  ,  844.  ,  850.  ]]), 'cam_pts_3D': array([[-1.57503155, -0.57529876,  0.42443403,  1.42416682, -1.55191826,\n",
            "        -0.55218547,  0.44754732,  1.44728011, -1.52880497, -0.52907218,\n",
            "         0.47066061,  1.4703934 , -1.50569168, -0.50595889,  0.4937739 ,\n",
            "         1.49350669, -1.57538506, -0.57565227,  0.42408052,  1.42381331,\n",
            "        -1.57573857, -0.57600578,  0.42372701,  1.4234598 , -1.57609208,\n",
            "        -0.57635929,  0.4233735 ,  1.42310629],\n",
            "       [-0.20399639, -0.18366957, -0.16334275, -0.14301593, -1.07571634,\n",
            "        -1.05538952, -1.0350627 , -1.01473588, -1.94743628, -1.92710946,\n",
            "        -1.90678264, -1.88645582, -2.81915622, -2.7988294 , -2.77850258,\n",
            "        -2.75817576,  0.28558625,  0.30591307,  0.32623989,  0.34656671,\n",
            "         0.77516889,  0.79549571,  0.81582253,  0.83614935,  1.26475153,\n",
            "         1.28507835,  1.30540517,  1.32573199],\n",
            "       [17.71307389, 17.70206618, 17.69105847, 17.68005077, 18.20253289,\n",
            "        18.19152518, 18.18051748, 18.16950977, 18.69199189, 18.68098419,\n",
            "        18.66997648, 18.65896877, 19.1814509 , 19.17044319, 19.15943548,\n",
            "        19.14842778, 18.58503072, 18.57402301, 18.5630153 , 18.5520076 ,\n",
            "        19.45698755, 19.44597984, 19.43497213, 19.42396443, 20.32894438,\n",
            "        20.31793667, 20.30692896, 20.29592126]])}\n"
          ]
        }
      ]
    },
    {
      "cell_type": "code",
      "source": [
        ""
      ],
      "metadata": {
        "id": "WxVDMD9dxb8M"
      },
      "execution_count": null,
      "outputs": []
    }
  ]
}